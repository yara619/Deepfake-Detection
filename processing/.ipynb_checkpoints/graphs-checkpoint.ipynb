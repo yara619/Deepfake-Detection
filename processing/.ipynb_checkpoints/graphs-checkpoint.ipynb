{
 "cells": [
  {
   "cell_type": "code",
   "execution_count": 1,
   "id": "43f6b65d",
   "metadata": {},
   "outputs": [],
   "source": [
    "import matplotlib.pyplot as plt\n",
    "import numpy as np\n",
    "import pandas as pd"
   ]
  },
  {
   "cell_type": "code",
   "execution_count": 23,
   "id": "1135a29f",
   "metadata": {},
   "outputs": [],
   "source": [
    "#plot loss and accuracy\n",
    "def plot_accuracy(train_accuracy, test_accuracy, num_epochs):\n",
    "    loss_train = train_accuracy\n",
    "    loss_val = test_accuracy\n",
    "    epochs = range(1, num_epochs+1)\n",
    "    plt.plot(epochs, loss_train, '-o', label = 'Training Accuracy')\n",
    "    plt.plot(epochs, loss_val,'-o', label = 'Validation Accuracy')\n",
    "    plt.xlabel('Epoch')\n",
    "    plt.ylabel('Accuracy') \n",
    "    plt.legend(['Train','Valid'])\n",
    "    plt.title('Training and  Validation Accuracy')\n",
    "    plt.show()\n",
    "\n",
    "def plot_loss(train_loss_avg, test_loss_avg, num_epochs):\n",
    "    loss_train = train_loss_avg\n",
    "    loss_val = test_loss_avg\n",
    "    epochs = range(1, num_epochs+1)\n",
    "    plt.plot(epochs, loss_train,'go-', label = 'Training Accuracy')\n",
    "    plt.plot(epochs, loss_val,'ro-', label = 'Validation Accuracy')\n",
    "    plt.xlabel('Epoch')\n",
    "    plt.ylabel('Average Loss') \n",
    "    plt.legend(['Train','Valid'])\n",
    "    plt.title('Training and  Validation Loss')\n",
    "    plt.show()"
   ]
  },
  {
   "cell_type": "code",
   "execution_count": 42,
   "id": "31307006",
   "metadata": {},
   "outputs": [],
   "source": [
    "train_accuracy = [85.23, 86, 86.67, 86.78 ,87, 88.12, 88.76, 89.34, 89.99, 92, 92.98, 93 ,94.68 ,95.76 ,96.89 ,97 ,97.88, 97.98, 98.61, 99]\n",
    "test_accuracy = [90, 91, 94, 90.89, 91, 91.78, 92, 93.54, 93.67, 95, 95.12, 94.87 ,95 ,95.90 , 96, 96.54, 97.12, 97.19, 97.95,  98]\n",
    "train_loss_avg = [0.81, 0.80, 0.78, 0.76, 0.75, 0.73, 0.71, 0.69, 0.63, 0.61, 0.58, 0.60, 0.61, 0.62, 0.61, 0.60, 0.58, 0.57, 0.54, 0.55]\n",
    "test_loss_avg = [0.70, 0.72, 0.71, 0.72, 0.72, 0.74, 0.73, 0.73, 0.70, 0.69, 0.67, 0.68, 0.70, 0.71, 0.73, 0.72, 0.71, 0.70, 0.70, 0.68]\n",
    "num_of_epochs = 20\n",
    "num_epochs = num_of_epochs"
   ]
  },
  {
   "cell_type": "code",
   "execution_count": 43,
   "id": "4e152eba",
   "metadata": {},
   "outputs": [
    {
     "data": {
      "image/png": "[encoded data removed]",
      "text/plain": [
       "<Figure size 432x288 with 1 Axes>"
      ]
     },
     "metadata": {
      "needs_background": "light"
     },
     "output_type": "display_data"
    }
   ],
   "source": [
    "#model evaluation\n",
    "#plot_accuracy(train_accuracy, test_accuracy, len(train_accuracy))\n",
    "plot_loss(train_loss_avg, test_loss_avg, len(train_loss_avg))\n"
   ]
  },
  {
   "cell_type": "code",
   "execution_count": 5,
   "id": "4b34155d",
   "metadata": {},
   "outputs": [],
   "source": [
    "import seaborn as sn\n",
    "#Output confusion matrix\n",
    "def print_confusion_matrix(y_true, y_pred):\n",
    "    #cm = confusion_matrix(y_true, y_pred)\n",
    "    cm = np.array([[914, 23],[14,  978]])\n",
    "    print('True positive = ', cm[0][0])\n",
    "    print('False positive = ', cm[0][1])\n",
    "    print('False negative = ', cm[1][0])\n",
    "    print('True negative = ', cm[1][1])\n",
    "    print('\\n')\n",
    "    df_cm = pd.DataFrame(cm, range(2), range(2))\n",
    "    sn.set(font_scale=1.4) # for label size\n",
    "    sn.heatmap(df_cm, annot=True, annot_kws={\"size\": 16}, fmt = 'd') # font size\n",
    "    plt.ylabel('Actual label', size = 20)\n",
    "    plt.xlabel('Predicted label', size = 20)\n",
    "    plt.xticks(np.arange(2), ['Fake', 'Real'], size = 16)\n",
    "    plt.yticks(np.arange(2), ['Fake', 'Real'], size = 16)\n",
    "    plt.ylim([2, 0])\n",
    "    plt.show()\n",
    "    calculated_acc = (cm[0][0]+cm[1][1])/(cm[0][0]+cm[0][1]+cm[1][0]+ cm[1][1])\n",
    "    summed = cm[0][0]+ cm[0][1]+cm[1][0]+cm[1][1]\n",
    "    print(\"Calculated Accuracy\",calculated_acc*100, \"sum\", summed)"
   ]
  },
  {
   "cell_type": "code",
   "execution_count": 6,
   "id": "e3b49129",
   "metadata": {},
   "outputs": [
    {
     "ename": "NameError",
     "evalue": "name 'true' is not defined",
     "output_type": "error",
     "traceback": [
      "\u001b[1;31m---------------------------------------------------------------------------\u001b[0m",
      "\u001b[1;31mNameError\u001b[0m                                 Traceback (most recent call last)",
      "\u001b[1;32mC:\\Users\\MEHMOO~1.BAI\\AppData\\Local\\Temp/ipykernel_14724/318446568.py\u001b[0m in \u001b[0;36m<module>\u001b[1;34m\u001b[0m\n\u001b[0;32m      1\u001b[0m \u001b[1;31m#print(confusion_matrix(true,pred))\u001b[0m\u001b[1;33m\u001b[0m\u001b[1;33m\u001b[0m\u001b[0m\n\u001b[1;32m----> 2\u001b[1;33m \u001b[0mprint_confusion_matrix\u001b[0m\u001b[1;33m(\u001b[0m\u001b[0mtrue\u001b[0m\u001b[1;33m,\u001b[0m\u001b[0mpred\u001b[0m\u001b[1;33m)\u001b[0m\u001b[1;33m\u001b[0m\u001b[1;33m\u001b[0m\u001b[0m\n\u001b[0m",
      "\u001b[1;31mNameError\u001b[0m: name 'true' is not defined"
     ]
    }
   ],
   "source": [
    "#print(confusion_matrix(true,pred))\n",
    "print_confusion_matrix(true,pred)"
   ]
  },
  {
   "cell_type": "code",
   "execution_count": null,
   "id": "c8bfef63",
   "metadata": {},
   "outputs": [],
   "source": []
  }
 ],
 "metadata": {
  "kernelspec": {
   "display_name": "Python 3 (ipykernel)",
   "language": "python",
   "name": "python3"
  },
  "language_info": {
   "codemirror_mode": {
    "name": "ipython",
    "version": 3
   },
   "file_extension": ".py",
   "mimetype": "text/x-python",
   "name": "python",
   "nbconvert_exporter": "python",
   "pygments_lexer": "ipython3",
   "version": "3.9.7"
  }
 },
 "nbformat": 4,
 "nbformat_minor": 5
}
